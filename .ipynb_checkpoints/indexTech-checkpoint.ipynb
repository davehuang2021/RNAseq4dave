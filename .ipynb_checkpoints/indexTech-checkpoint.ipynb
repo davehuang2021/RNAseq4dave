{
 "cells": [
  {
   "cell_type": "markdown",
   "id": "eaa3997f-ff02-4e39-b699-e05716f7ea71",
   "metadata": {},
   "source": [
    "## import\n"
   ]
  },
  {
   "cell_type": "code",
   "execution_count": 2,
   "id": "84aa2a6f-fa8c-4688-8fc9-e10000aa54b3",
   "metadata": {},
   "outputs": [],
   "source": [
    "import pandas as pd\n",
    "import scanpy as sc"
   ]
  },
  {
   "cell_type": "code",
   "execution_count": 3,
   "id": "faf87805-26a1-4812-bfc4-d94f9f78964b",
   "metadata": {},
   "outputs": [
    {
     "name": "stdout",
     "output_type": "stream",
     "text": [
      "Variable               Type             Data/Info\n",
      "-------------------------------------------------\n",
      "NamespaceMagics        MetaHasTraits    <class 'IPython.core.magi<...>mespace.NamespaceMagics'>\n",
      "dataframe_columns      function         <function dataframe_columns at 0x137357560>\n",
      "dataframe_hash         function         <function dataframe_hash at 0x137357060>\n",
      "dtypes_str             function         <function dtypes_str at 0x137357740>\n",
      "get_dataframes         function         <function get_dataframes at 0x137356fc0>\n",
      "get_ipython            function         <function get_ipython at 0x1065ba3e0>\n",
      "getpass                module           <module 'getpass' from '/<...>b/python3.12/getpass.py'>\n",
      "hashlib                module           <module 'hashlib' from '/<...>b/python3.12/hashlib.py'>\n",
      "import_pandas_safely   function         <function import_pandas_safely at 0x137357880>\n",
      "is_data_frame          function         <function is_data_frame at 0x137356e80>\n",
      "json                   module           <module 'json' from '/opt<...>on3.12/json/__init__.py'>\n",
      "pd                     module           <module 'pandas' from '/o<...>ages/pandas/__init__.py'>\n",
      "sc                     module           <module 'scanpy' (namespa<...>hub/RNAseq4dave/scanpy']>\n",
      "sys                    module           <module 'sys' (built-in)>\n"
     ]
    }
   ],
   "source": [
    "%whos"
   ]
  },
  {
   "cell_type": "code",
   "execution_count": null,
   "id": "489ad59b-fe02-4e6f-9f64-053da6187dcb",
   "metadata": {},
   "outputs": [],
   "source": []
  }
 ],
 "metadata": {
  "kernelspec": {
   "display_name": "Python [conda env:base] *",
   "language": "python",
   "name": "conda-base-py"
  },
  "language_info": {
   "codemirror_mode": {
    "name": "ipython",
    "version": 3
   },
   "file_extension": ".py",
   "mimetype": "text/x-python",
   "name": "python",
   "nbconvert_exporter": "python",
   "pygments_lexer": "ipython3",
   "version": "3.12.7"
  }
 },
 "nbformat": 4,
 "nbformat_minor": 5
}
